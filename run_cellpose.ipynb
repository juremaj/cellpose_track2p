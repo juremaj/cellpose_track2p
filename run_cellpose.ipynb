{
 "cells": [
  {
   "cell_type": "code",
   "execution_count": null,
   "metadata": {},
   "outputs": [],
   "source": [
    "import os\n",
    "import numpy as np\n",
    "import gc \n",
    "\n",
    "import numpy as np\n",
    "import matplotlib.pyplot as plt\n",
    "from cellpose import models, io\n",
    "from cellpose.io import imread\n",
    "\n",
    "# Suite2p trace extraction\n",
    "from suite2p.extraction.extract import extraction_wrapper\n",
    "\n",
    "from cellpose_track2p.io import tiff_loader, get_session_s2p_paths\n",
    "from cellpose_track2p.compute import get_spks, generate_all_meantiff, masks_to_stat, str_gad\n",
    "from cellpose_track2p.plot import plot_fov_masks, plot_raster\n",
    "\n",
    "# prevent having to refresh\n",
    "%load_ext autoreload\n",
    "%autoreload\n"
   ]
  },
  {
   "cell_type": "code",
   "execution_count": null,
   "metadata": {},
   "outputs": [],
   "source": [
    "#TODO: add the 'skew' and maybe other fields to the stat (for compatibility with suite2p)"
   ]
  },
  {
   "cell_type": "code",
   "execution_count": null,
   "metadata": {},
   "outputs": [],
   "source": [
    "subject_id = 'jm040'\n",
    "\n",
    "model_type = 'cyto3'\n",
    "\n",
    "diameter = 6\n",
    "flow_threshold = 0.6\n",
    "cellprob_threshold = -6.0\n",
    "\n",
    "take_first_nsessions = None # change to None later on the server"
   ]
  },
  {
   "cell_type": "code",
   "execution_count": null,
   "metadata": {},
   "outputs": [],
   "source": [
    "cellpose_subject_id = subject_id + '_gad'"
   ]
  },
  {
   "cell_type": "code",
   "execution_count": null,
   "metadata": {},
   "outputs": [],
   "source": [
    "def str_degad(string):\n",
    "    # remove 'gad' from string\n",
    "    return string.replace('_gad', '')"
   ]
  },
  {
   "cell_type": "code",
   "execution_count": null,
   "metadata": {},
   "outputs": [],
   "source": [
    "session_paths, all_s2p_path = get_session_s2p_paths(subject_id, take_first_nsessions=take_first_nsessions)"
   ]
  },
  {
   "cell_type": "code",
   "execution_count": null,
   "metadata": {},
   "outputs": [],
   "source": [
    "\n",
    "stat = np.load(os.path.join(all_s2p_path[0], 'stat.npy'), allow_pickle=True)\n",
    "redcell = np.load(os.path.join(all_s2p_path[0], 'redcell.npy'), allow_pickle=True)\n",
    "iscell = np.load(os.path.join(all_s2p_path[0], 'iscell.npy'), allow_pickle=True)"
   ]
  },
  {
   "cell_type": "code",
   "execution_count": null,
   "metadata": {},
   "outputs": [],
   "source": [
    "# make the full file structure for cellpose\n",
    "for path in all_s2p_path:\n",
    "    path_gad = str_gad(path, subject_id)\n",
    "    if not os.path.exists(path_gad):\n",
    "        os.makedirs(path_gad)\n",
    "        "
   ]
  },
  {
   "cell_type": "code",
   "execution_count": null,
   "metadata": {},
   "outputs": [],
   "source": [
    "generate_all_meantiff(all_s2p_path)"
   ]
  },
  {
   "cell_type": "code",
   "execution_count": null,
   "metadata": {},
   "outputs": [],
   "source": [
    "img_paths = [os.path.join(str_gad(s2p_path, subject_id), 'meanImg_chan2.tiff') for s2p_path in all_s2p_path]"
   ]
  },
  {
   "cell_type": "code",
   "execution_count": null,
   "metadata": {},
   "outputs": [],
   "source": [
    "io.logger_setup()\n",
    "\n",
    "# model_type='cyto' or 'nuclei' or 'cyto2' or 'cyto3'\n",
    "model = models.CellposeModel(model_type=model_type)\n",
    "\n",
    "files = img_paths\n",
    "\n",
    "imgs = [imread(f) for f in files]\n",
    "nimg = len(imgs)\n",
    "\n",
    "channels = [[0,0]]\n",
    "\n",
    "masks, flows, styles = model.eval(imgs, diameter=diameter, channels=channels, flow_threshold=flow_threshold, cellprob_threshold=cellprob_threshold)"
   ]
  },
  {
   "cell_type": "code",
   "execution_count": null,
   "metadata": {},
   "outputs": [],
   "source": [
    "# do same as above but with matching histograms of the imshow and then in a single figure (subplots) (TODO: make bottom one into a function!, this one is the same as bottom, just without the contours)\n",
    "\n",
    "plot_fov_masks(imgs, masks, show_masks=False)\n",
    "plot_fov_masks(imgs, masks)\n"
   ]
  },
  {
   "cell_type": "code",
   "execution_count": null,
   "metadata": {},
   "outputs": [],
   "source": [
    "# for each one in session replace jm038 with jm038_cellpose\n",
    "session_paths_gad = [str_gad(f, subject_id) for f in session_paths]"
   ]
  },
  {
   "cell_type": "code",
   "execution_count": null,
   "metadata": {},
   "outputs": [],
   "source": []
  },
  {
   "cell_type": "code",
   "execution_count": null,
   "metadata": {},
   "outputs": [],
   "source": [
    "masks_to_stat(masks, session_paths, session_paths_gad)"
   ]
  },
  {
   "cell_type": "code",
   "execution_count": null,
   "metadata": {},
   "outputs": [],
   "source": [
    "def sort_tiff_paths(paths):\n",
    "    # sort the paths based on the value between 'file' and '_' in the filename\n",
    "    return sorted(paths, key=lambda x: int(x.split('file')[1].split('_')[0]))"
   ]
  },
  {
   "cell_type": "code",
   "execution_count": null,
   "metadata": {},
   "outputs": [],
   "source": [
    "\n",
    "#  paths to motion corrected files (for now just root of session)\n",
    "for session_path in session_paths_gad:\n",
    "    print('starting extraction for session: ', session_path)\n",
    "    ops = np.load(os.path.join(session_path, 'suite2p', 'plane0', 'ops.npy'), allow_pickle=True).item()\n",
    "    stat = np.load(os.path.join(session_path, 'suite2p', 'plane0', 'stat.npy'), allow_pickle=True)\n",
    "    \n",
    "    tiffs_path_ch0 = os.path.join(str_degad(session_path), 'suite2p', 'plane0', 'reg_tif') # change this before deploying properly\n",
    "    tiffs_path_ch1 = os.path.join(str_degad(session_path), 'suite2p', 'plane0', 'reg_tif_chan2') # change this before deploying properly\n",
    "\n",
    "    # get all .tif files in the folder\n",
    "    tiff_files_ch0 = [f for f in os.listdir(tiffs_path_ch0) if (f.endswith('_chan0.tif') and not f.startswith('.'))]\n",
    "    tiff_files_ch1 = [f for f in os.listdir(tiffs_path_ch1) if (f.endswith('_chan1.tif') and not f.startswith('.'))]\n",
    "    \n",
    "    tiff_files_ch0 = sort_tiff_paths(tiff_files_ch0)\n",
    "    tiff_files_ch1 = sort_tiff_paths(tiff_files_ch1)\n",
    "    \n",
    "    print('found tiff files: ', tiff_files_ch0)\n",
    "    print('found tiff files: ', tiff_files_ch1)\n",
    "    \n",
    "    # NOTE: the loader is very memory inefficient since it loads each tiff 2x (because of page reading issue) and also it loads the whole movie for both channels at the same time - can be improved...\n",
    "    tf_ch0 = tiff_loader(tiffs_path_ch0, tiff_files_ch0)\n",
    "    tf_ch1 = tiff_loader(tiffs_path_ch1, tiff_files_ch1)\n",
    "\n",
    "    # now extract the traces\n",
    "    ops['allow_overlap'] = True # to avoid suite2p bug -> anyways overlap is close to 0 in sparse labelling\n",
    "    stat, F, Fneu, F_chan2, Fneu_chan2 = extraction_wrapper(stat, tf_ch0, f_reg_chan2=tf_ch1, cell_masks=None, neuropil_masks=None, ops=ops)\n",
    "\n",
    "    spks = get_spks(F, Fneu, ops)\n",
    "\n",
    "    # plot F raster\n",
    "    plot_raster(F)\n",
    "\n",
    "\n",
    "    # save the traces\n",
    "    F_path = os.path.join(session_path, 'suite2p', 'plane0', 'F.npy')\n",
    "    Fneu_path = os.path.join(session_path, 'suite2p', 'plane0', 'Fneu.npy')\n",
    "    F_chan2_path = os.path.join(session_path, 'suite2p', 'plane0', 'F_chan2.npy')\n",
    "    Fneu_chan2_path = os.path.join(session_path, 'suite2p', 'plane0', 'Fneu_chan2.npy')\n",
    "    spks_path = os.path.join(session_path, 'suite2p', 'plane0', 'spks.npy')\n",
    "    \n",
    "    np.save(F_path, F)\n",
    "    np.save(Fneu_path, Fneu)\n",
    "    np.save(F_chan2_path, F_chan2)\n",
    "    np.save(Fneu_chan2_path, Fneu_chan2)\n",
    "    np.save(spks_path, spks)\n",
    "    \n",
    "    # clear memory \n",
    "    del tf_ch0, tf_ch1, F, Fneu, F_chan2, Fneu_chan2, spks, ops, stat\n",
    "    print('running garbage collection')\n",
    "    gc.collect()\n",
    "    \n",
    "    \n",
    "    \n",
    "    \n"
   ]
  },
  {
   "cell_type": "markdown",
   "metadata": {},
   "source": []
  }
 ],
 "metadata": {
  "kernelspec": {
   "display_name": "cellpose",
   "language": "python",
   "name": "python3"
  },
  "language_info": {
   "codemirror_mode": {
    "name": "ipython",
    "version": 3
   },
   "file_extension": ".py",
   "mimetype": "text/x-python",
   "name": "python",
   "nbconvert_exporter": "python",
   "pygments_lexer": "ipython3",
   "version": "3.9.19"
  }
 },
 "nbformat": 4,
 "nbformat_minor": 2
}
