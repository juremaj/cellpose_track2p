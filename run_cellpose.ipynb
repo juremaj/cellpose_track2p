{
 "cells": [
  {
   "cell_type": "code",
   "execution_count": null,
   "metadata": {},
   "outputs": [],
   "source": [
    "import os\n",
    "import numpy as np\n",
    "import matplotlib.pyplot as plt\n",
    "from skimage.exposure import match_histograms\n",
    "\n",
    "import numpy as np\n",
    "import matplotlib.pyplot as plt\n",
    "from cellpose import models, io\n",
    "from cellpose.io import imread"
   ]
  },
  {
   "cell_type": "code",
   "execution_count": null,
   "metadata": {},
   "outputs": [],
   "source": [
    "subject_id = 'jm038'\n",
    "\n",
    "model_type = 'cyto3'\n",
    "\n",
    "diameter = 6\n",
    "flow_threshold = 0.6\n",
    "cellprob_threshold = -6.0"
   ]
  },
  {
   "cell_type": "code",
   "execution_count": null,
   "metadata": {},
   "outputs": [],
   "source": [
    "# get all suite2p/plane0 paths\n",
    "subject_path = os.path.join('data_proc', subject_id[:2], subject_id)\n",
    "\n",
    "# now get all sub-directories that end with '_a'\n",
    "session_paths = [os.path.join(subject_path, f) for f in os.listdir(subject_path) if f.endswith('_a')]\n",
    "session_paths.sort()\n",
    "\n",
    "all_s2p_path = []\n",
    "\n",
    "for session_path in session_paths:\n",
    "    s2p_path = os.path.join(session_path, 'suite2p', 'plane0')\n",
    "    if os.path.exists(s2p_path):\n",
    "        all_s2p_path.append(s2p_path)"
   ]
  },
  {
   "cell_type": "code",
   "execution_count": null,
   "metadata": {},
   "outputs": [],
   "source": [
    "all_ch2_meanimg = []\n",
    "\n",
    "for s2p_path in all_s2p_path:\n",
    "    ops = np.load(os.path.join(s2p_path, 'ops.npy'), allow_pickle=True).item()\n",
    "\n",
    "    ch2_meanimg = ops['meanImg_chan2']\n",
    "    all_ch2_meanimg.append(ch2_meanimg)\n",
    "\n",
    "    ch2_meanimg_uint16 = (ch2_meanimg*2).astype(np.uint16)\n",
    "    tiff_path = os.path.join(s2p_path, 'meanImg_chan2.tiff')\n",
    "    plt.imsave(tiff_path, ch2_meanimg_uint16, cmap='gray')\n"
   ]
  },
  {
   "cell_type": "code",
   "execution_count": null,
   "metadata": {},
   "outputs": [],
   "source": [
    "img_paths = [os.path.join(session_paths, 'meanImg_chan2.tiff') for session_paths in all_s2p_path]"
   ]
  },
  {
   "cell_type": "code",
   "execution_count": null,
   "metadata": {},
   "outputs": [],
   "source": [
    "io.logger_setup()\n",
    "\n",
    "# model_type='cyto' or 'nuclei' or 'cyto2' or 'cyto3'\n",
    "model = models.CellposeModel(model_type=model_type)\n",
    "\n",
    "files = img_paths\n",
    "\n",
    "imgs = [imread(f) for f in files]\n",
    "nimg = len(imgs)\n",
    "\n",
    "channels = [[0,0]]\n",
    "\n",
    "masks, flows, styles = model.eval(imgs, diameter=diameter, channels=channels, flow_threshold=flow_threshold, cellprob_threshold=cellprob_threshold)"
   ]
  },
  {
   "cell_type": "code",
   "execution_count": null,
   "metadata": {},
   "outputs": [],
   "source": [
    "# do same as above but with matching histograms of the imshow and then in a single figure (subplots) (TODO: make bottom one into a function!, this one is the same as bottom, just without the contours)\n",
    "\n",
    "fig, axs = plt.subplots(1, nimg, figsize=(10*nimg, 10), dpi=300)\n",
    "\n",
    "for i, (img, mask) in enumerate(zip(imgs, masks)):\n",
    "    # match the histogram to the first image\n",
    "    img_matched = match_histograms(img, imgs[0])\n",
    "    img_matched = np.clip(img_matched, 0, np.percentile(img_matched, 74))\n",
    "    img_matched = (img_matched - img_matched.min()) / (img_matched.max() - img_matched.min())\n",
    "\n",
    "    axs[i].imshow(img_matched, cmap='gray')\n",
    "    axs[i].axis('off')"
   ]
  },
  {
   "cell_type": "code",
   "execution_count": null,
   "metadata": {},
   "outputs": [],
   "source": [
    "# do same as above but with matching histograms of the imshow and then in a single figure (subplots)\n",
    "\n",
    "fig, axs = plt.subplots(1, nimg, figsize=(10*nimg, 10), dpi=300)\n",
    "\n",
    "for i, (img, mask) in enumerate(zip(imgs, masks)):\n",
    "    # match the histogram to the first image\n",
    "    img_matched = match_histograms(img, imgs[0])\n",
    "    img_matched = np.clip(img_matched, 0, np.percentile(img_matched, 74))\n",
    "    img_matched = (img_matched - img_matched.min()) / (img_matched.max() - img_matched.min())\n",
    "\n",
    "    axs[i].imshow(img_matched, cmap='gray')\n",
    "    axs[i].axis('off')\n",
    "\n",
    "    for u in np.unique(mask)[1:]:\n",
    "        axs[i].contour(mask==u, [0.5], colors=[plt.cm.jet(u/len(np.unique(mask)))], linewidths=0.5)\n"
   ]
  },
  {
   "cell_type": "code",
   "execution_count": null,
   "metadata": {},
   "outputs": [],
   "source": [
    "# for each one in session replace jm038 with jm038_cellpose\n",
    "session_paths_cellpose = [f.replace(subject_id, f'{subject_id}_cellpose') for f in session_paths]"
   ]
  },
  {
   "cell_type": "code",
   "execution_count": null,
   "metadata": {},
   "outputs": [],
   "source": [
    "# now save these masks as stat.npy the same as would be done in suite2p\n",
    "\n",
    "\n",
    "for i, img_masks in enumerate(masks):\n",
    "    stat = []\n",
    "    for u in np.unique(img_masks)[1:]:\n",
    "        ypix, xpix = np.where(img_masks==u)\n",
    "        # get the centroid\n",
    "        med = np.median(xpix), np.median(ypix)\n",
    "        npix = len(xpix)\n",
    "        lam = np.ones(npix, np.float32)\n",
    "        stat.append({'xpix': xpix, 'ypix': ypix, 'med': med, 'npix': npix, 'lam': lam})\n",
    "    \n",
    "    iscell = np.ones((len(stat), 2))\n",
    "        \n",
    "    ops = np.load(os.path.join(session_paths[i], 'suite2p', 'plane0', 'ops.npy'), allow_pickle=True).item()\n",
    "\n",
    "    stat_save_path = os.path.join(session_paths_cellpose[i], 'suite2p', 'plane0', 'stat.npy')\n",
    "    iscell_save_path = os.path.join(session_paths_cellpose[i], 'suite2p', 'plane0', 'iscell.npy')\n",
    "    ops_save_path = os.path.join(session_paths_cellpose[i], 'suite2p', 'plane0', 'ops.npy')\n",
    "\n",
    "    # TODO: load ops and make sure to save it in the same path\n",
    "\n",
    "    os.makedirs(os.path.dirname(stat_save_path), exist_ok=True)\n",
    "    os.makedirs(os.path.dirname(iscell_save_path), exist_ok=True)\n",
    "    os.makedirs(os.path.dirname(ops_save_path), exist_ok=True)\n",
    "\n",
    "\n",
    "    np.save(stat_save_path, stat)\n",
    "    np.save(iscell_save_path, iscell)\n",
    "    np.save(ops_save_path, ops)\n"
   ]
  }
 ],
 "metadata": {
  "kernelspec": {
   "display_name": "cellpose",
   "language": "python",
   "name": "python3"
  },
  "language_info": {
   "codemirror_mode": {
    "name": "ipython",
    "version": 3
   },
   "file_extension": ".py",
   "mimetype": "text/x-python",
   "name": "python",
   "nbconvert_exporter": "python",
   "pygments_lexer": "ipython3",
   "version": "3.9.19"
  }
 },
 "nbformat": 4,
 "nbformat_minor": 2
}
